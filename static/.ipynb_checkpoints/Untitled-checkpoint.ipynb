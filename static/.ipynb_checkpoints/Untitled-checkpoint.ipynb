{
 "cells": [
  {
   "cell_type": "code",
   "execution_count": 74,
   "id": "ef7c46b6-1191-474b-8315-95106869882e",
   "metadata": {},
   "outputs": [],
   "source": [
    "import os\n",
    "from django.core.management import call_command\n",
    "\n",
    "os.environ[\"DJANGO_ALLOW_ASYNC_UNSAFE\"] = \"true\""
   ]
  },
  {
   "cell_type": "code",
   "execution_count": 32,
   "id": "c98beea2-5802-445a-921c-6107da5350af",
   "metadata": {},
   "outputs": [],
   "source": [
    "from hl7_app.models import Patient,ErrorCharges"
   ]
  },
  {
   "cell_type": "code",
   "execution_count": 34,
   "id": "b2615327-eaed-4d30-9b8c-b141089544d5",
   "metadata": {},
   "outputs": [
    {
     "data": {
      "text/plain": [
       "<QuerySet []>"
      ]
     },
     "execution_count": 34,
     "metadata": {},
     "output_type": "execute_result"
    }
   ],
   "source": [
    "ErrorCharges.objects.all()"
   ]
  },
  {
   "cell_type": "code",
   "execution_count": 87,
   "id": "38d09fda-6ddb-4ae9-bcd8-d7fef5126e84",
   "metadata": {},
   "outputs": [],
   "source": [
    "import re\n",
    "from hl7_app.models import Patient, ErrorCharges\n",
    "from datetime import datetime\n"
   ]
  },
  {
   "cell_type": "code",
   "execution_count": 91,
   "id": "f7810a88-94ca-452c-8438-40cb7f7d1966",
   "metadata": {},
   "outputs": [],
   "source": [
    "\n",
    "# Function to read HL7 file\n",
    "def read_hl7_file(file_path):\n",
    "    with open(file_path, 'r') as file:\n",
    "        hl7_data = file.read()\n",
    "    return hl7_data\n",
    "\n",
    "# Function to extract patient data from HL7 text\n",
    "def extract_patient_data(hl7_data):\n",
    "    patients = []\n",
    "\n",
    "    # Split the HL7 data into segments\n",
    "    segments = hl7_data.split('\\n')\n",
    "\n",
    "    for segment in segments:\n",
    "        if segment.startswith('PID'):\n",
    "            # Extract fields from PID segment\n",
    "            fields = segment.split('|')\n",
    "            try:\n",
    "                patient_data = {\n",
    "                    'mrn': fields[3].split('^')[0],  # Medical Record Number\n",
    "                    'last_name': fields[5].split('^')[0],  # Last Name\n",
    "                    'first_name': fields[5].split('^')[1] if len(fields[5].split('^')) > 1 else 'N/A',  # First Name\n",
    "                    'date_of_birth': fields[7],  # Date of Birth\n",
    "                    'phone': fields[11].split('^')[0]  # Phone\n",
    "                }\n",
    "                patients.append(patient_data)\n",
    "            except IndexError:\n",
    "                # Handle unexpected format\n",
    "                print(\"Error processing PID segment:\", segment)\n",
    "    \n",
    "    return patients\n",
    "\n",
    "\n",
    "def store_patient_data(patient_data):\n",
    "    print(patient_data)\n",
    "    for entry in patient_data:\n",
    "        first_name = entry.get('first_name')\n",
    "        last_name = entry.get('last_name')\n",
    "        date_of_birth_str = entry.get('date_of_birth')\n",
    "        mrn = entry.get('mrn')\n",
    "        phone = entry.get('phone')\n",
    "        print(first_name,last_name, mrn, type(mrn))\n",
    "        errors = []\n",
    "        if not date_of_birth_str:\n",
    "            errors.append('DOB not found')\n",
    "        if not mrn:\n",
    "            errors.append('MRN not found')\n",
    "        if not first_name or not last_name:\n",
    "            errors.append('Patient name not found')\n",
    "    \n",
    "        try:\n",
    "            date_of_birth = datetime.strptime(date_of_birth_str, '%Y%m%d').date()\n",
    "        except ValueError:\n",
    "            date_of_birth = None\n",
    "            errors.append('Invalid DOB format')\n",
    "    \n",
    "        if not errors:\n",
    "            existing_patients = Patient.objects.filter(mrn=mrn)\n",
    "            if existing_patients.exists():\n",
    "                # Handle duplicates - choose one or merge\n",
    "                for patient in existing_patients:\n",
    "                    # For demonstration, we'll just print duplicates\n",
    "                    print(f\"Duplicate MRN found: {patient.mrn}\")\n",
    "            else:\n",
    "                Patient.objects.create(\n",
    "                    mrn=mrn,\n",
    "                    first_name=first_name,\n",
    "                    last_name=last_name,\n",
    "                    date_of_birth=date_of_birth,\n",
    "                    phone=phone\n",
    "                )\n",
    "        else:\n",
    "            for error in errors:\n",
    "                print(errors)\n",
    "                print(error)\n",
    "                print(mrn)\n",
    "                ErrorCharges.objects.create(\n",
    "                    error_type=error,\n",
    "                    error_message=f\"Missing data for MRN: {mrn}\",\n",
    "                   \n",
    "                )\n"
   ]
  },
  {
   "cell_type": "code",
   "execution_count": 92,
   "id": "e7dc1137-95e9-4757-82c3-0ae6a0794c6e",
   "metadata": {},
   "outputs": [
    {
     "name": "stdout",
     "output_type": "stream",
     "text": [
      "[{'mrn': '789101', 'last_name': 'Smith', 'first_name': 'Jane', 'date_of_birth': '19920322', 'phone': '456 Oak St'}, {'mrn': '112233', 'last_name': '', 'first_name': '', 'date_of_birth': '19850110', 'phone': '789 Pine St'}, {'mrn': '334455', 'last_name': 'Brown', 'first_name': 'Olivia', 'date_of_birth': '19951005', 'phone': '321 Cedar St'}, {'mrn': '556677', 'last_name': 'White', 'first_name': 'Emily', 'date_of_birth': '20000515', 'phone': '654 Spruce St'}, {'mrn': '778899', 'last_name': 'Wilson', 'first_name': 'James', 'date_of_birth': '19780708', 'phone': '987 Birch St'}, {'mrn': '990011', 'last_name': 'Garcia', 'first_name': 'Sophia', 'date_of_birth': '19990214', 'phone': '234 Willow St'}, {'mrn': '001122', 'last_name': 'Martinez', 'first_name': 'Daniel', 'date_of_birth': '19730518', 'phone': '567 Aspen St'}, {'mrn': '223344', 'last_name': 'Lee', 'first_name': 'Chloe', 'date_of_birth': '20010323', 'phone': '890 Maple St'}, {'mrn': '334455', 'last_name': 'Kim', 'first_name': 'Ethan', 'date_of_birth': '19820612', 'phone': '345 Walnut St'}, {'mrn': '445566', 'last_name': 'Rodriguez', 'first_name': 'Isabella', 'date_of_birth': '19961025', 'phone': '678 Birch St'}, {'mrn': '556677', 'last_name': 'Johnson', 'first_name': 'Lucas', 'date_of_birth': '19890102', 'phone': '123 Spruce St'}, {'mrn': '667788', 'last_name': 'Thompson', 'first_name': 'Mia', 'date_of_birth': '20020214', 'phone': '456 Cedar St'}]\n",
      "Jane Smith 789101 <class 'str'>\n",
      "Duplicate MRN found: 789101\n",
      "  112233 <class 'str'>\n",
      "['Patient name not found']\n",
      "Patient name not found\n",
      "112233\n"
     ]
    },
    {
     "ename": "TypeError",
     "evalue": "ErrorCharges() got unexpected keyword arguments: 'mrn'",
     "output_type": "error",
     "traceback": [
      "\u001b[1;31m---------------------------------------------------------------------------\u001b[0m",
      "\u001b[1;31mTypeError\u001b[0m                                 Traceback (most recent call last)",
      "Cell \u001b[1;32mIn[92], line 9\u001b[0m\n\u001b[0;32m      7\u001b[0m \u001b[38;5;66;03m# Extract patient data\u001b[39;00m\n\u001b[0;32m      8\u001b[0m patient_data \u001b[38;5;241m=\u001b[39m extract_patient_data(hl7_data)\n\u001b[1;32m----> 9\u001b[0m \u001b[43mstore_patient_data\u001b[49m\u001b[43m(\u001b[49m\u001b[43mpatient_data\u001b[49m\u001b[43m)\u001b[49m\n\u001b[0;32m     11\u001b[0m \u001b[38;5;66;03m# Display extracted data\u001b[39;00m\n\u001b[0;32m     12\u001b[0m \u001b[38;5;28mprint\u001b[39m(patient_data)\n",
      "Cell \u001b[1;32mIn[91], line 77\u001b[0m, in \u001b[0;36mstore_patient_data\u001b[1;34m(patient_data)\u001b[0m\n\u001b[0;32m     75\u001b[0m \u001b[38;5;28mprint\u001b[39m(error)\n\u001b[0;32m     76\u001b[0m \u001b[38;5;28mprint\u001b[39m(mrn)\n\u001b[1;32m---> 77\u001b[0m \u001b[43mErrorCharges\u001b[49m\u001b[38;5;241;43m.\u001b[39;49m\u001b[43mobjects\u001b[49m\u001b[38;5;241;43m.\u001b[39;49m\u001b[43mcreate\u001b[49m\u001b[43m(\u001b[49m\n\u001b[0;32m     78\u001b[0m \u001b[43m    \u001b[49m\u001b[43merror_type\u001b[49m\u001b[38;5;241;43m=\u001b[39;49m\u001b[43merror\u001b[49m\u001b[43m,\u001b[49m\n\u001b[0;32m     79\u001b[0m \u001b[43m    \u001b[49m\u001b[43merror_message\u001b[49m\u001b[38;5;241;43m=\u001b[39;49m\u001b[38;5;124;43mf\u001b[39;49m\u001b[38;5;124;43m\"\u001b[39;49m\u001b[38;5;124;43mMissing data for MRN: \u001b[39;49m\u001b[38;5;132;43;01m{\u001b[39;49;00m\u001b[43mmrn\u001b[49m\u001b[38;5;132;43;01m}\u001b[39;49;00m\u001b[38;5;124;43m\"\u001b[39;49m\u001b[43m,\u001b[49m\n\u001b[0;32m     80\u001b[0m \u001b[43m    \u001b[49m\u001b[43mmrn\u001b[49m\u001b[38;5;241;43m=\u001b[39;49m\u001b[43mmrn\u001b[49m\n\u001b[0;32m     81\u001b[0m \u001b[43m\u001b[49m\u001b[43m)\u001b[49m\n",
      "File \u001b[1;32mC:\\Windows\\System32\\environment\\lib\\site-packages\\django\\db\\models\\manager.py:87\u001b[0m, in \u001b[0;36mBaseManager._get_queryset_methods.<locals>.create_method.<locals>.manager_method\u001b[1;34m(self, *args, **kwargs)\u001b[0m\n\u001b[0;32m     85\u001b[0m \u001b[38;5;129m@wraps\u001b[39m(method)\n\u001b[0;32m     86\u001b[0m \u001b[38;5;28;01mdef\u001b[39;00m \u001b[38;5;21mmanager_method\u001b[39m(\u001b[38;5;28mself\u001b[39m, \u001b[38;5;241m*\u001b[39margs, \u001b[38;5;241m*\u001b[39m\u001b[38;5;241m*\u001b[39mkwargs):\n\u001b[1;32m---> 87\u001b[0m     \u001b[38;5;28;01mreturn\u001b[39;00m \u001b[38;5;28mgetattr\u001b[39m(\u001b[38;5;28mself\u001b[39m\u001b[38;5;241m.\u001b[39mget_queryset(), name)(\u001b[38;5;241m*\u001b[39margs, \u001b[38;5;241m*\u001b[39m\u001b[38;5;241m*\u001b[39mkwargs)\n",
      "File \u001b[1;32mC:\\Windows\\System32\\environment\\lib\\site-packages\\django\\db\\models\\query.py:656\u001b[0m, in \u001b[0;36mQuerySet.create\u001b[1;34m(self, **kwargs)\u001b[0m\n\u001b[0;32m    651\u001b[0m \u001b[38;5;28;01mdef\u001b[39;00m \u001b[38;5;21mcreate\u001b[39m(\u001b[38;5;28mself\u001b[39m, \u001b[38;5;241m*\u001b[39m\u001b[38;5;241m*\u001b[39mkwargs):\n\u001b[0;32m    652\u001b[0m \u001b[38;5;250m    \u001b[39m\u001b[38;5;124;03m\"\"\"\u001b[39;00m\n\u001b[0;32m    653\u001b[0m \u001b[38;5;124;03m    Create a new object with the given kwargs, saving it to the database\u001b[39;00m\n\u001b[0;32m    654\u001b[0m \u001b[38;5;124;03m    and returning the created object.\u001b[39;00m\n\u001b[0;32m    655\u001b[0m \u001b[38;5;124;03m    \"\"\"\u001b[39;00m\n\u001b[1;32m--> 656\u001b[0m     obj \u001b[38;5;241m=\u001b[39m \u001b[38;5;28mself\u001b[39m\u001b[38;5;241m.\u001b[39mmodel(\u001b[38;5;241m*\u001b[39m\u001b[38;5;241m*\u001b[39mkwargs)\n\u001b[0;32m    657\u001b[0m     \u001b[38;5;28mself\u001b[39m\u001b[38;5;241m.\u001b[39m_for_write \u001b[38;5;241m=\u001b[39m \u001b[38;5;28;01mTrue\u001b[39;00m\n\u001b[0;32m    658\u001b[0m     obj\u001b[38;5;241m.\u001b[39msave(force_insert\u001b[38;5;241m=\u001b[39m\u001b[38;5;28;01mTrue\u001b[39;00m, using\u001b[38;5;241m=\u001b[39m\u001b[38;5;28mself\u001b[39m\u001b[38;5;241m.\u001b[39mdb)\n",
      "File \u001b[1;32mC:\\Windows\\System32\\environment\\lib\\site-packages\\django\\db\\models\\base.py:567\u001b[0m, in \u001b[0;36mModel.__init__\u001b[1;34m(self, *args, **kwargs)\u001b[0m\n\u001b[0;32m    565\u001b[0m     \u001b[38;5;28;01mif\u001b[39;00m unexpected:\n\u001b[0;32m    566\u001b[0m         unexpected_names \u001b[38;5;241m=\u001b[39m \u001b[38;5;124m\"\u001b[39m\u001b[38;5;124m, \u001b[39m\u001b[38;5;124m\"\u001b[39m\u001b[38;5;241m.\u001b[39mjoin(\u001b[38;5;28mrepr\u001b[39m(n) \u001b[38;5;28;01mfor\u001b[39;00m n \u001b[38;5;129;01min\u001b[39;00m unexpected)\n\u001b[1;32m--> 567\u001b[0m         \u001b[38;5;28;01mraise\u001b[39;00m \u001b[38;5;167;01mTypeError\u001b[39;00m(\n\u001b[0;32m    568\u001b[0m             \u001b[38;5;124mf\u001b[39m\u001b[38;5;124m\"\u001b[39m\u001b[38;5;132;01m{\u001b[39;00m\u001b[38;5;28mcls\u001b[39m\u001b[38;5;241m.\u001b[39m\u001b[38;5;18m__name__\u001b[39m\u001b[38;5;132;01m}\u001b[39;00m\u001b[38;5;124m() got unexpected keyword arguments: \u001b[39m\u001b[38;5;124m\"\u001b[39m\n\u001b[0;32m    569\u001b[0m             \u001b[38;5;124mf\u001b[39m\u001b[38;5;124m\"\u001b[39m\u001b[38;5;132;01m{\u001b[39;00munexpected_names\u001b[38;5;132;01m}\u001b[39;00m\u001b[38;5;124m\"\u001b[39m\n\u001b[0;32m    570\u001b[0m         )\n\u001b[0;32m    571\u001b[0m \u001b[38;5;28msuper\u001b[39m()\u001b[38;5;241m.\u001b[39m\u001b[38;5;21m__init__\u001b[39m()\n\u001b[0;32m    572\u001b[0m post_init\u001b[38;5;241m.\u001b[39msend(sender\u001b[38;5;241m=\u001b[39m\u001b[38;5;28mcls\u001b[39m, instance\u001b[38;5;241m=\u001b[39m\u001b[38;5;28mself\u001b[39m)\n",
      "\u001b[1;31mTypeError\u001b[0m: ErrorCharges() got unexpected keyword arguments: 'mrn'"
     ]
    }
   ],
   "source": [
    "# Path to HL7 file\n",
    "file_path = r'C:\\Users\\91824\\Downloads\\HL7 (1) (1)\\HL7\\charges_0.hl7'\n",
    "\n",
    "# Read HL7 data\n",
    "hl7_data = read_hl7_file(file_path)\n",
    "\n",
    "# Extract patient data\n",
    "patient_data = extract_patient_data(hl7_data)\n",
    "store_patient_data(patient_data)\n",
    "\n",
    "# Display extracted data\n",
    "print(patient_data)\n"
   ]
  },
  {
   "cell_type": "code",
   "execution_count": null,
   "id": "ddc6c107-374f-4f3f-8887-36bdf7036e02",
   "metadata": {},
   "outputs": [],
   "source": []
  }
 ],
 "metadata": {
  "kernelspec": {
   "display_name": "Django Shell-Plus",
   "language": "python",
   "name": "django_extensions"
  },
  "language_info": {
   "codemirror_mode": {
    "name": "ipython",
    "version": 3
   },
   "file_extension": ".py",
   "mimetype": "text/x-python",
   "name": "python",
   "nbconvert_exporter": "python",
   "pygments_lexer": "ipython3",
   "version": "3.9.13"
  }
 },
 "nbformat": 4,
 "nbformat_minor": 5
}
